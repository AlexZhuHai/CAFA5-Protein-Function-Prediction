{
 "cells": [
  {
   "cell_type": "code",
   "execution_count": 1,
   "id": "48f6e6dd-ce91-4972-bf95-f3fa3c59c7ed",
   "metadata": {},
   "outputs": [
    {
     "data": {
      "text/html": [
       "<div>\n",
       "<style scoped>\n",
       "    .dataframe tbody tr th:only-of-type {\n",
       "        vertical-align: middle;\n",
       "    }\n",
       "\n",
       "    .dataframe tbody tr th {\n",
       "        vertical-align: top;\n",
       "    }\n",
       "\n",
       "    .dataframe thead th {\n",
       "        text-align: right;\n",
       "    }\n",
       "</style>\n",
       "<table border=\"1\" class=\"dataframe\">\n",
       "  <thead>\n",
       "    <tr style=\"text-align: right;\">\n",
       "      <th></th>\n",
       "      <th>The Protein ID</th>\n",
       "      <th>The Gene Ontology term (GO) ID</th>\n",
       "      <th>Predicted link probability that GO appear in Protein</th>\n",
       "    </tr>\n",
       "  </thead>\n",
       "  <tbody>\n",
       "    <tr>\n",
       "      <th>0</th>\n",
       "      <td>A0A0A0MRZ7</td>\n",
       "      <td>GO:0000001</td>\n",
       "      <td>0.123</td>\n",
       "    </tr>\n",
       "    <tr>\n",
       "      <th>1</th>\n",
       "      <td>A0A0A0MRZ7</td>\n",
       "      <td>GO:0000002</td>\n",
       "      <td>0.123</td>\n",
       "    </tr>\n",
       "    <tr>\n",
       "      <th>2</th>\n",
       "      <td>A0A0A0MRZ8</td>\n",
       "      <td>GO:0000001</td>\n",
       "      <td>0.123</td>\n",
       "    </tr>\n",
       "    <tr>\n",
       "      <th>3</th>\n",
       "      <td>A0A0A0MRZ8</td>\n",
       "      <td>GO:0000002</td>\n",
       "      <td>0.123</td>\n",
       "    </tr>\n",
       "    <tr>\n",
       "      <th>4</th>\n",
       "      <td>A0A0A0MRZ9</td>\n",
       "      <td>GO:0000001</td>\n",
       "      <td>0.123</td>\n",
       "    </tr>\n",
       "  </tbody>\n",
       "</table>\n",
       "</div>"
      ],
      "text/plain": [
       "  The Protein ID The Gene Ontology term (GO) ID  \\\n",
       "0     A0A0A0MRZ7                     GO:0000001   \n",
       "1     A0A0A0MRZ7                     GO:0000002   \n",
       "2     A0A0A0MRZ8                     GO:0000001   \n",
       "3     A0A0A0MRZ8                     GO:0000002   \n",
       "4     A0A0A0MRZ9                     GO:0000001   \n",
       "\n",
       "   Predicted link probability that GO appear in Protein  \n",
       "0                                              0.123     \n",
       "1                                              0.123     \n",
       "2                                              0.123     \n",
       "3                                              0.123     \n",
       "4                                              0.123     "
      ]
     },
     "execution_count": 1,
     "metadata": {},
     "output_type": "execute_result"
    }
   ],
   "source": [
    "import pandas as pd\n",
    "sub = pd.read_csv(\"../input/cafa-5-protein-function-prediction/sample_submission.tsv\", sep= \"\\t\", header = None)\n",
    "sub.columns = [\"The Protein ID\", \"The Gene Ontology term (GO) ID\", \"Predicted link probability that GO appear in Protein\"]\n",
    "sub.head(5)"
   ]
  },
  {
   "cell_type": "code",
   "execution_count": 3,
   "id": "464aaa88-afd5-4532-88d4-c1c87e2b66b5",
   "metadata": {},
   "outputs": [
    {
     "name": "stdout",
     "output_type": "stream",
     "text": [
      "../input/.DS_Store\n",
      "../input/protbert-embeddings-for-cafa5/train_ids.npy\n",
      "../input/protbert-embeddings-for-cafa5/test_ids.npy\n",
      "../input/protbert-embeddings-for-cafa5/train_embeddings.npy\n",
      "../input/protbert-embeddings-for-cafa5/test_embeddings.npy\n",
      "../input/cafa-5-protein-function-prediction/sample_submission.tsv\n",
      "../input/cafa-5-protein-function-prediction/.DS_Store\n",
      "../input/cafa-5-protein-function-prediction/IA.txt\n",
      "../input/cafa-5-protein-function-prediction/Test (Targets)/testsuperset.fasta\n",
      "../input/cafa-5-protein-function-prediction/Test (Targets)/testsuperset-taxon-list.tsv\n",
      "../input/cafa-5-protein-function-prediction/Train/train_taxonomy.tsv\n",
      "../input/cafa-5-protein-function-prediction/Train/train_terms.tsv\n",
      "../input/cafa-5-protein-function-prediction/Train/go-basic.obo\n",
      "../input/cafa-5-protein-function-prediction/Train/train_sequences.fasta\n",
      "../input/train-targets-top500/train_targets_top500.npy\n",
      "../input/cafa-5-053818-pred/.DS_Store\n",
      "../input/cafa-5-053818-pred/submission (3).tsv\n",
      "../input/t5embeds/train_ids.npy\n",
      "../input/t5embeds/test_ids.npy\n",
      "../input/t5embeds/test_embeds.npy\n",
      "../input/t5embeds/train_embeds.npy\n",
      "../input/cafa-5-ems-2-embeddings-numpy/train_ids.npy\n",
      "../input/cafa-5-ems-2-embeddings-numpy/test_ids.npy\n",
      "../input/cafa-5-ems-2-embeddings-numpy/train_embeddings.npy\n",
      "../input/cafa-5-ems-2-embeddings-numpy/test_embeddings.npy\n"
     ]
    }
   ],
   "source": [
    "MAIN_DIR = \"../input/cafa-5-protein-function-prediction\"\n",
    "\n",
    "# UTILITARIES\n",
    "import numpy as npå\n",
    "from tqdm import tqdm\n",
    "import time\n",
    "import matplotlib.pyplot as plt\n",
    "plt.style.use('ggplot')\n",
    "\n",
    "# TORCH MODULES FOR METRICS COMPUTATION :\n",
    "import torch\n",
    "from torch.utils.data import Dataset\n",
    "from torch import nn\n",
    "from torch.utils.data import random_split\n",
    "from torch.optim.lr_scheduler import ReduceLROnPlateau\n",
    "from torchmetrics.classification import MultilabelF1Score\n",
    "from torchmetrics.classification import MultilabelAccuracy\n",
    "\n",
    "import pytorch_lightning as pl\n",
    "from pytorch_lightning import Trainer\n",
    "from pytorch_lightning.loggers import WandbLogger\n",
    "\n",
    "# WANDB FOR LIGHTNING :\n",
    "import wandb\n",
    "\n",
    "# FILES VISUALIZATION\n",
    "import os\n",
    "for dirname, _, filenames in os.walk('../input'):\n",
    "    for filename in filenames:\n",
    "        print(os.path.join(dirname, filename))"
   ]
  },
  {
   "cell_type": "code",
   "execution_count": 5,
   "id": "9628174f-74d6-4c91-a2b4-974d3bef8237",
   "metadata": {},
   "outputs": [
    {
     "name": "stdout",
     "output_type": "stream",
     "text": [
      "mps\n"
     ]
    }
   ],
   "source": [
    "class config:\n",
    "    train_sequences_path = MAIN_DIR  + \"/Train/train_sequences.fasta\"\n",
    "    train_labels_path = MAIN_DIR + \"/Train/train_terms.tsv\"\n",
    "    test_sequences_path = MAIN_DIR + \"/Test (Targets)/testsuperset.fasta\"\n",
    "    \n",
    "    num_labels = 500\n",
    "    n_epochs = 5\n",
    "    batch_size = 128\n",
    "    lr = 0.01\n",
    "\n",
    "    device = torch.device('mps')\n",
    "    # device = torch.device('cuda' if torch.cuda.is_available() else 'cpu')\n",
    "\n",
    "print(config.device)\n",
    "\n",
    "# Directories for the different embedding vectors : \n",
    "embeds_map = {\n",
    "    \"T5\" : \"t5embeds\",\n",
    "    \"ProtBERT\" : \"protbert-embeddings-for-cafa5\",\n",
    "    \"EMS2\" : \"cafa-5-ems-2-embeddings-numpy\"\n",
    "}\n",
    "\n",
    "# Length of the different embedding vectors :\n",
    "embeds_dim = {\n",
    "    \"T5\" : 1024,\n",
    "    \"ProtBERT\" : 1024,\n",
    "    \"EMS2\" : 1280\n",
    "}\n",
    "\n",
    "class ProteinSequenceDataset(Dataset):\n",
    "    \n",
    "    def __init__(self, datatype, embeddings_source):\n",
    "        super(ProteinSequenceDataset).__init__()\n",
    "        self.datatype = datatype\n",
    "        \n",
    "        if embeddings_source in [\"ProtBERT\", \"EMS2\"]:\n",
    "            embeds = np.load(\"../input/\"+embeds_map[embeddings_source]+\"/\"+datatype+\"_embeddings.npy\")\n",
    "            ids = np.load(\"../input/\"+embeds_map[embeddings_source]+\"/\"+datatype+\"_ids.npy\")\n",
    "        \n",
    "        if embeddings_source == \"T5\":\n",
    "            embeds = np.load(\"../input/\"+embeds_map[embeddings_source]+\"/\"+datatype+\"_embeds.npy\")\n",
    "            ids = np.load(\"../input/\"+embeds_map[embeddings_source]+\"/\"+datatype+\"_ids.npy\")\n",
    "            \n",
    "        embeds_list = []\n",
    "        for l in range(embeds.shape[0]):\n",
    "            embeds_list.append(embeds[l,:])\n",
    "        self.df = pd.DataFrame(data={\"EntryID\": ids, \"embed\" : embeds_list})\n",
    "        \n",
    "        if datatype==\"train\":\n",
    "            np_labels = np.load(\n",
    "                \"../input/train-targets-top\"+str(config.num_labels)+ \\\n",
    "                \"/train_targets_top\"+str(config.num_labels)+\".npy\")\n",
    "            df_labels = pd.DataFrame(self.df['EntryID'])\n",
    "            df_labels['labels_vect']=[row for row in np_labels]\n",
    "            self.df = self.df.merge(df_labels, on=\"EntryID\")\n",
    "            \n",
    "    def __len__(self):\n",
    "        return len(self.df)\n",
    "    \n",
    "    def __getitem__(self, index):\n",
    "        embed = torch.tensor(self.df.iloc[index][\"embed\"] , dtype = torch.float32)\n",
    "        if self.datatype==\"train\":\n",
    "            targets = torch.tensor(self.df.iloc[index][\"labels_vect\"], dtype = torch.float32)\n",
    "            return embed, targets\n",
    "        if self.datatype==\"test\":\n",
    "            id = self.df.iloc[index][\"EntryID\"]\n",
    "            return embed, id\n",
    "        "
   ]
  },
  {
   "cell_type": "code",
   "execution_count": 7,
   "id": "cc261d15-3c61-4f91-8fcd-94c013646ff8",
   "metadata": {},
   "outputs": [],
   "source": [
    "class MultiLayerPerceptron(torch.nn.Module):\n",
    "\n",
    "    def __init__(self, input_dim, num_classes):\n",
    "        super(MultiLayerPerceptron, self).__init__()\n",
    "\n",
    "        self.linear1 = torch.nn.Linear(input_dim, 864)\n",
    "        self.activation1 = torch.nn.ReLU() \n",
    "        self.linear2 = torch.nn.Linear(864, 712)\n",
    "        self.activation2 = torch.nn.ReLU()\n",
    "        self.linear3 = torch.nn.Linear(712, num_classes)\n",
    "      \n",
    "\n",
    "    def forward(self, x):\n",
    "        x = self.linear1(x)\n",
    "        x = self.activation1(x)\n",
    "        x = self.linear2(x)\n",
    "        x = self.activation2(x)\n",
    "        x = self.linear3(x)\n",
    "        return x\n",
    "\n",
    "class CNN1D(nn.Module):\n",
    "    def __init__(self, input_dim, num_classes):\n",
    "        super(CNN1D, self).__init__()\n",
    "        # (batch_size, channels, embed_size)\n",
    "        self.conv1 = nn.Conv1d(in_channels=1, out_channels=3, kernel_size=3, dilation=1, padding=1, stride=1)\n",
    "        # (batch_size, 3, embed_size)\n",
    "        self.pool1 = nn.MaxPool1d(kernel_size=2, stride=2)\n",
    "        # (batch_size, 3, embed_size/2 = 512)\n",
    "        self.conv2 = nn.Conv1d(in_channels=3, out_channels=8, kernel_size=3, dilation=1, padding=1, stride=1)\n",
    "        # (batch_size, 8, embed_size/2 = 512)\n",
    "        self.pool2 = nn.MaxPool1d(kernel_size=2, stride=2)\n",
    "        # (batch_size, 8, embed_size/4 = 256)\n",
    "        self.fc1 = nn.Linear(in_features=int(8 * input_dim/4), out_features=864)\n",
    "        self.fc2 = nn.Linear(in_features=864, out_features=num_classes)\n",
    "\n",
    "    def forward(self, x):\n",
    "        x = x.reshape(x.shape[0], 1, x.shape[1])\n",
    "        x = self.pool1(nn.functional.tanh(self.conv1(x)))\n",
    "        x = self.pool2(nn.functional.tanh(self.conv2(x)))\n",
    "        x = torch.flatten(x, 1)\n",
    "        x = nn.functional.tanh(self.fc1(x))\n",
    "        x = self.fc2(x)\n",
    "        return x"
   ]
  },
  {
   "cell_type": "code",
   "execution_count": 9,
   "id": "3b86b7d8-6f95-4c7b-a31c-27ca290125a0",
   "metadata": {},
   "outputs": [
    {
     "name": "stdout",
     "output_type": "stream",
     "text": [
      "BEGIN TRAINING...\n",
      "EPOCH  1\n"
     ]
    },
    {
     "name": "stderr",
     "output_type": "stream",
     "text": [
      "100%|███████████████████████████████████████| 1001/1001 [00:18<00:00, 53.61it/s]\n"
     ]
    },
    {
     "name": "stdout",
     "output_type": "stream",
     "text": [
      "Running Average TRAIN Loss :  138.49849107191636\n",
      "Running Average TRAIN F1-Score :  0.09487416522277818\n",
      "Running Average VAL Loss :  136.72083841051375\n",
      "Running Average VAL F1-Score :  0.1151182895659336\n",
      "\n",
      "\n",
      "EPOCH  2\n"
     ]
    },
    {
     "name": "stderr",
     "output_type": "stream",
     "text": [
      "100%|███████████████████████████████████████| 1001/1001 [00:11<00:00, 88.42it/s]\n"
     ]
    },
    {
     "name": "stdout",
     "output_type": "stream",
     "text": [
      "Running Average TRAIN Loss :  136.5305665708803\n",
      "Running Average TRAIN F1-Score :  0.12185227128860357\n",
      "Running Average VAL Loss :  136.56272731508528\n",
      "Running Average VAL F1-Score :  0.1285845609381795\n",
      "\n",
      "\n",
      "EPOCH  3\n"
     ]
    },
    {
     "name": "stderr",
     "output_type": "stream",
     "text": [
      "100%|███████████████████████████████████████| 1001/1001 [00:11<00:00, 90.31it/s]\n"
     ]
    },
    {
     "name": "stdout",
     "output_type": "stream",
     "text": [
      "Running Average TRAIN Loss :  135.93325436008084\n",
      "Running Average TRAIN F1-Score :  0.13038706085035257\n",
      "Running Average VAL Loss :  136.63713107790267\n",
      "Running Average VAL F1-Score :  0.1389198190798717\n",
      "\n",
      "\n",
      "EPOCH  4\n"
     ]
    },
    {
     "name": "stderr",
     "output_type": "stream",
     "text": [
      "100%|███████████████████████████████████████| 1001/1001 [00:10<00:00, 91.63it/s]\n"
     ]
    },
    {
     "name": "stdout",
     "output_type": "stream",
     "text": [
      "Running Average TRAIN Loss :  135.50096399419672\n",
      "Running Average TRAIN F1-Score :  0.13721194000659764\n",
      "Running Average VAL Loss :  135.42040361676897\n",
      "Running Average VAL F1-Score :  0.13979826255568437\n",
      "\n",
      "\n",
      "EPOCH  5\n"
     ]
    },
    {
     "name": "stderr",
     "output_type": "stream",
     "text": [
      "100%|███████████████████████████████████████| 1001/1001 [00:10<00:00, 92.60it/s]\n"
     ]
    },
    {
     "name": "stdout",
     "output_type": "stream",
     "text": [
      "Running Average TRAIN Loss :  135.22997035465755\n",
      "Running Average TRAIN F1-Score :  0.1407284974143817\n",
      "Running Average VAL Loss :  134.9257778440203\n",
      "Running Average VAL F1-Score :  0.14018242540104048\n",
      "\n",
      "\n",
      "TRAINING FINISHED\n",
      "FINAL TRAINING SCORE :  0.1407284974143817\n",
      "FINAL VALIDATION SCORE :  0.14018242540104048\n"
     ]
    },
    {
     "data": {
      "image/png": "[encoded data removed]",
      "text/plain": [
       "<Figure size 1000x400 with 1 Axes>"
      ]
     },
     "metadata": {},
     "output_type": "display_data"
    },
    {
     "data": {
      "image/png": "[encoded data removed]",
      "text/plain": [
       "<Figure size 1000x400 with 1 Axes>"
      ]
     },
     "metadata": {},
     "output_type": "display_data"
    }
   ],
   "source": [
    "def train_model(embeddings_source, model_type=\"linear\", train_size=0.9):\n",
    "    \n",
    "    train_dataset = ProteinSequenceDataset(datatype=\"train\", embeddings_source = embeddings_source)\n",
    "    \n",
    "    train_set, val_set = random_split(train_dataset, lengths = [int(len(train_dataset)*train_size), len(train_dataset)-int(len(train_dataset)*train_size)])\n",
    "    train_dataloader = torch.utils.data.DataLoader(train_set, batch_size=config.batch_size, shuffle=True)\n",
    "    val_dataloader = torch.utils.data.DataLoader(val_set, batch_size=config.batch_size, shuffle=True)\n",
    "\n",
    "    if model_type == \"linear\":\n",
    "        model = MultiLayerPerceptron(input_dim=embeds_dim[embeddings_source], num_classes=config.num_labels).to(config.device)\n",
    "    if model_type == \"convolutional\":\n",
    "        model = CNN1D(input_dim=embeds_dim[embeddings_source], num_classes=config.num_labels).to(config.device)\n",
    "\n",
    "    optimizer = torch.optim.Adam(model.parameters(), lr = config.lr)\n",
    "    scheduler = ReduceLROnPlateau(optimizer, factor=0.1, patience=1)\n",
    "    CrossEntropy = torch.nn.CrossEntropyLoss()\n",
    "    f1_score = MultilabelF1Score(num_labels=config.num_labels).to(config.device)\n",
    "    n_epochs = config.n_epochs\n",
    "\n",
    "    print(\"BEGIN TRAINING...\")\n",
    "    train_loss_history=[]\n",
    "    val_loss_history=[]\n",
    "    \n",
    "    train_f1score_history=[]\n",
    "    val_f1score_history=[]\n",
    "    for epoch in range(n_epochs):\n",
    "        print(\"EPOCH \", epoch+1)\n",
    "        ## TRAIN PHASE :\n",
    "        losses = []\n",
    "        scores = []\n",
    "        for embed, targets in tqdm(train_dataloader):\n",
    "            embed, targets = embed.to(config.device), targets.to(config.device)\n",
    "            optimizer.zero_grad()\n",
    "            preds = model(embed)\n",
    "            loss= CrossEntropy(preds, targets)\n",
    "            score=f1_score(preds, targets)\n",
    "            losses.append(loss.item()) \n",
    "            scores.append(score.item())\n",
    "            loss.backward()\n",
    "            optimizer.step()\n",
    "        avg_loss = np.mean(losses)\n",
    "        avg_score = np.mean(scores)\n",
    "        print(\"Running Average TRAIN Loss : \", avg_loss)\n",
    "        print(\"Running Average TRAIN F1-Score : \", avg_score)\n",
    "        train_loss_history.append(avg_loss)\n",
    "        train_f1score_history.append(avg_score)\n",
    "        \n",
    "        ## VALIDATION PHASE : \n",
    "        losses = []\n",
    "        scores = []\n",
    "        for embed, targets in val_dataloader:\n",
    "            embed, targets = embed.to(config.device), targets.to(config.device)\n",
    "            preds = model(embed)\n",
    "            loss= CrossEntropy(preds, targets)\n",
    "            score=f1_score(preds, targets)\n",
    "            losses.append(loss.item())\n",
    "            scores.append(score.item())\n",
    "        avg_loss = np.mean(losses)\n",
    "        avg_score = np.mean(scores)\n",
    "        print(\"Running Average VAL Loss : \", avg_loss)\n",
    "        print(\"Running Average VAL F1-Score : \", avg_score)\n",
    "        val_loss_history.append(avg_loss)\n",
    "        val_f1score_history.append(avg_score)\n",
    "        \n",
    "        scheduler.step(avg_loss)\n",
    "        print(\"\\n\")\n",
    "        \n",
    "    print(\"TRAINING FINISHED\")\n",
    "    print(\"FINAL TRAINING SCORE : \", train_f1score_history[-1])\n",
    "    print(\"FINAL VALIDATION SCORE : \", val_f1score_history[-1])\n",
    "    \n",
    "    losses_history = {\"train\" : train_loss_history, \"val\" : val_loss_history}\n",
    "    scores_history = {\"train\" : train_f1score_history, \"val\" : val_f1score_history}\n",
    "    \n",
    "    return model, losses_history, scores_history\n",
    "\n",
    "protbert_model, protbert_losses, protbert_scores = train_model(embeddings_source=\"ProtBERT\",model_type=\"linear\")\n",
    "\n",
    "plt.figure(figsize = (10, 4))\n",
    "#plt.plot(ems2_losses[\"val\"], label = \"EMS2\")\n",
    "#plt.plot(t5_losses[\"val\"], label = \"T5\")\n",
    "plt.plot(protbert_losses[\"val\"], label = \"ProtBERT\") \n",
    "plt.title(\"Validation Losses for # Vector Embeddings\")\n",
    "plt.xlabel(\"Epochs\")\n",
    "plt.ylabel(\"Average Loss\")\n",
    "plt.legend()\n",
    "plt.show()\n",
    "\n",
    "plt.figure(figsize = (10, 4))\n",
    "#plt.plot(ems2_scores[\"val\"], label = \"EMS2\")\n",
    "#plt.plot(t5_scores[\"val\"], label = \"T5\")\n",
    "plt.plot(protbert_scores[\"val\"], label = \"ProtBERT\")\n",
    "plt.title(\"Validation F1-Scores for # Vector Embeddings\")\n",
    "plt.xlabel(\"Epochs\")\n",
    "plt.ylabel(\"Average F1-Score\")\n",
    "plt.legend()\n",
    "plt.show()"
   ]
  },
  {
   "cell_type": "code",
   "execution_count": 10,
   "id": "39175fc6-f74c-4497-ab34-d676df42b0b6",
   "metadata": {},
   "outputs": [
    {
     "name": "stdout",
     "output_type": "stream",
     "text": [
      "GENERATE PREDICTION FOR TEST SET...\n"
     ]
    },
    {
     "name": "stderr",
     "output_type": "stream",
     "text": [
      "141865it [01:30, 1573.40it/s]\n"
     ]
    },
    {
     "name": "stdout",
     "output_type": "stream",
     "text": [
      "PREDICTIONS DONE\n"
     ]
    },
    {
     "data": {
      "text/plain": [
       "70932500"
      ]
     },
     "execution_count": 10,
     "metadata": {},
     "output_type": "execute_result"
    }
   ],
   "source": [
    "def predict(embeddings_source):\n",
    "    \n",
    "    test_dataset = ProteinSequenceDataset(datatype=\"test\", embeddings_source = embeddings_source)\n",
    "    test_dataloader = torch.utils.data.DataLoader(test_dataset, batch_size=1, shuffle=False)\n",
    "    \n",
    "    if embeddings_source == \"T5\":\n",
    "        model = t5_model\n",
    "    if embeddings_source == \"ProtBERT\":\n",
    "        model = protbert_model\n",
    "    if embeddings_source == \"EMS2\":\n",
    "        model = ems2_model\n",
    "        \n",
    "    model.eval()\n",
    "    \n",
    "    labels = pd.read_csv(config.train_labels_path, sep = \"\\t\")\n",
    "    top_terms = labels.groupby(\"term\")[\"EntryID\"].count().sort_values(ascending=False)\n",
    "    labels_names = top_terms[:config.num_labels].index.values\n",
    "    print(\"GENERATE PREDICTION FOR TEST SET...\")\n",
    "\n",
    "    ids_ = np.empty(shape=(len(test_dataloader)*config.num_labels,), dtype=object)\n",
    "    go_terms_ = np.empty(shape=(len(test_dataloader)*config.num_labels,), dtype=object)\n",
    "    confs_ = np.empty(shape=(len(test_dataloader)*config.num_labels,), dtype=np.float32)\n",
    "\n",
    "    for i, (embed, id) in tqdm(enumerate(test_dataloader)):\n",
    "        embed = embed.to(config.device)\n",
    "        confs_[i*config.num_labels:(i+1)*config.num_labels] = torch.nn.functional.sigmoid(model(embed)).squeeze().detach().cpu().numpy()\n",
    "        ids_[i*config.num_labels:(i+1)*config.num_labels] = id[0]\n",
    "        go_terms_[i*config.num_labels:(i+1)*config.num_labels] = labels_names\n",
    "\n",
    "    submission_df = pd.DataFrame(data={\"Id\" : ids_, \"GO term\" : go_terms_, \"Confidence\" : confs_})\n",
    "    print(\"PREDICTIONS DONE\")\n",
    "    return submission_df\n",
    "\n",
    "submission_df = predict(\"ProtBERT\")\n",
    "len(submission_df)"
   ]
  },
  {
   "cell_type": "code",
   "execution_count": null,
   "id": "5971da6d-6225-4521-b33d-c4455fa6ee29",
   "metadata": {},
   "outputs": [],
   "source": []
  }
 ],
 "metadata": {
  "kernelspec": {
   "display_name": "Python 3 (ipykernel)",
   "language": "python",
   "name": "python3"
  },
  "language_info": {
   "codemirror_mode": {
    "name": "ipython",
    "version": 3
   },
   "file_extension": ".py",
   "mimetype": "text/x-python",
   "name": "python",
   "nbconvert_exporter": "python",
   "pygments_lexer": "ipython3",
   "version": "3.11.7"
  }
 },
 "nbformat": 4,
 "nbformat_minor": 5
}
