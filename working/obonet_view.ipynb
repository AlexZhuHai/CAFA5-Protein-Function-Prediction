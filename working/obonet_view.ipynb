{
 "cells": [
  {
   "cell_type": "code",
   "execution_count": 1,
   "id": "3d4b4e16-9253-4f6c-b8ef-4dd07b512027",
   "metadata": {},
   "outputs": [
    {
     "name": "stdout",
     "output_type": "stream",
     "text": [
      "Requirement already satisfied: obonet in /opt/anaconda3/lib/python3.11/site-packages (1.0.0)\n",
      "Requirement already satisfied: networkx in /opt/anaconda3/lib/python3.11/site-packages (from obonet) (3.1)\n"
     ]
    }
   ],
   "source": [
    "!pip install obonet\n"
   ]
  },
  {
   "cell_type": "code",
   "execution_count": 1,
   "id": "cb71217e-450b-4e16-8011-ddb9de22283b",
   "metadata": {},
   "outputs": [
    {
     "data": {
      "text/plain": [
       "{'GO:0006996', 'GO:0008150', 'GO:0009987', 'GO:0016043', 'GO:0071840'}"
      ]
     },
     "execution_count": 1,
     "metadata": {},
     "output_type": "execute_result"
    }
   ],
   "source": [
    "import networkx as nx\n",
    "import obonet\n",
    "\n",
    "MAIN_DIR = \"../input/cafa-5-protein-function-prediction\"\n",
    "\n",
    "# 读取 taxrank 本体\n",
    "url = MAIN_DIR + '/train/go-basic.obo'\n",
    "graph = obonet.read_obo(url)\n",
    "\n",
    "# 输出节点和边的数量\n",
    "print(f\"Number of nodes: {len(graph)}\")\n",
    "print(f\"Number of edges: {graph.number_of_edges()}\")\n",
    "\n",
    "# 检查本体是否为有向无环图（DAG）\n",
    "is_dag = nx.is_directed_acyclic_graph(graph)\n",
    "print(f\"Is the ontology a DAG? {is_dag}\")\n",
    "\n",
    "# 生成从 term ID 到名称的映射\n",
    "id_to_name = {id_: data.get('name') for id_, data in graph.nodes(data=True)}\n",
    "\n",
    "# 输出特定term的名称\n",
    "term_id = 'GO:0048308'\n",
    "print(f\"Name for {term_id}: {id_to_name.get(term_id)}\")\n",
    "\n",
    "# 查找所有superterms\n",
    "superterms = nx.descendants(graph, term_id)\n",
    "print(f\"Superterms of {term_id}: {superterms}\")\n"
   ]
  },
  {
   "cell_type": "code",
   "execution_count": null,
   "id": "6589ade0-16ea-4b4a-a21b-79148498ccc8",
   "metadata": {},
   "outputs": [],
   "source": []
  }
 ],
 "metadata": {
  "kernelspec": {
   "display_name": "Python 3 (ipykernel)",
   "language": "python",
   "name": "python3"
  },
  "language_info": {
   "codemirror_mode": {
    "name": "ipython",
    "version": 3
   },
   "file_extension": ".py",
   "mimetype": "text/x-python",
   "name": "python",
   "nbconvert_exporter": "python",
   "pygments_lexer": "ipython3",
   "version": "3.11.7"
  }
 },
 "nbformat": 4,
 "nbformat_minor": 5
}
